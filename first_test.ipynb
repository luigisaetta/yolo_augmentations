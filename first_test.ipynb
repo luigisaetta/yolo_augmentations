{
 "cells": [
  {
   "cell_type": "code",
   "execution_count": 2,
   "id": "92c76f1a",
   "metadata": {},
   "outputs": [],
   "source": [
    "import pandas\n",
    "import numpy\n",
    "import albumentations as A"
   ]
  },
  {
   "cell_type": "markdown",
   "id": "69778450",
   "metadata": {},
   "source": [
    "#### This is the doc to use:\n",
    "https://albumentations.ai/docs/getting_started/bounding_boxes_augmentation/"
   ]
  },
  {
   "cell_type": "code",
   "execution_count": null,
   "id": "5a28fdcb",
   "metadata": {},
   "outputs": [],
   "source": []
  }
 ],
 "metadata": {
  "kernelspec": {
   "display_name": "Python 3 (ipykernel)",
   "language": "python",
   "name": "python3"
  },
  "language_info": {
   "codemirror_mode": {
    "name": "ipython",
    "version": 3
   },
   "file_extension": ".py",
   "mimetype": "text/x-python",
   "name": "python",
   "nbconvert_exporter": "python",
   "pygments_lexer": "ipython3",
   "version": "3.9.0"
  }
 },
 "nbformat": 4,
 "nbformat_minor": 5
}
