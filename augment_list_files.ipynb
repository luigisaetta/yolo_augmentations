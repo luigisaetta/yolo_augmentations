{
 "cells": [
  {
   "cell_type": "markdown",
   "id": "2c4eca1d-1595-4a74-9e06-b64dca4f84f3",
   "metadata": {},
   "source": [
    "### Take a list of images (jpg) + yolo labels and apply Albumentations augmentations\n",
    "\n",
    "to generate new images correctly labeles (with BB in Yolo v5 format)"
   ]
  },
  {
   "cell_type": "code",
   "execution_count": 1,
   "id": "c707eb82-25d8-4bd5-8739-76800fa4e36a",
   "metadata": {},
   "outputs": [],
   "source": [
    "from os import path\n",
    "import glob\n",
    "import cv2\n",
    "import albumentations as A\n",
    "import matplotlib.pyplot as plt\n",
    "\n",
    "%matplotlib inline"
   ]
  },
  {
   "cell_type": "code",
   "execution_count": 2,
   "id": "3faf5375-3073-4489-887f-2c66d23d4f94",
   "metadata": {},
   "outputs": [],
   "source": [
    "# read image yolo labels from yolo file\n",
    "# and returns in yolo format\n",
    "def read_bb(label_path):\n",
    "    with open(label_path, 'r') as f:\n",
    "        data = f.readlines()\n",
    "    \n",
    "    # build the bb list\n",
    "    yolo_bb_list = []\n",
    "    \n",
    "    for line in data:\n",
    "        # Split string to float\n",
    "        class_num, x, y, w, h = map(float, line.split(' '))\n",
    "        \n",
    "        # in the list, class_num is the last, ready for Albumentations\n",
    "        yolo_bb_list.append([x, y, w, h, int(class_num)])\n",
    "    \n",
    "    return yolo_bb_list\n",
    "\n",
    "# write in a file the transformed bb\n",
    "def write_bb(new_label_path, yolo_bb_list):\n",
    "    # a single component in yolo_bb_list is xc, yc, w, h, class_num\n",
    "    # so we need to change the order in the file (where class_num is the first)\n",
    "    with open(new_label_path, 'w') as f:\n",
    "        for bb in yolo_bb_list:\n",
    "            # get a row\n",
    "            xc, yc, w, h, class_num = bb\n",
    "            \n",
    "            # of decimal digits: 8\n",
    "            new_line = f\"{class_num} {xc:.8f} {yc:.8f} {w:.8f} {h:.8f}\\n\"\n",
    "            \n",
    "            f.write(new_line)\n",
    "    \n",
    "# convert a single bb for cv2\n",
    "def yolo_to_cv2(yolo_bb, height, width):\n",
    "    # yolo_bb is list o a tuple\n",
    "    \n",
    "    # the last is the class_num, here not used\n",
    "    x, y, w, h, _ = yolo_bb\n",
    "    \n",
    "    # x lower left\n",
    "    l = int((x - w / 2.) * width)\n",
    "    # x upper right\n",
    "    r = int((x + w / 2.) * width)\n",
    "    # y lower left\n",
    "    t = int((y - h / 2.) * height)\n",
    "    # y upper right\n",
    "    b = int((y + h / 2.) * height)\n",
    "    \n",
    "    l = max(0, l)\n",
    "    t = max(0, t)\n",
    "    r = min(r, width - 1)\n",
    "    b = min(b, height - 1)\n",
    "        \n",
    "    return [l, r, t, b]\n",
    "\n",
    "# some formal check\n",
    "def do_check(original_bb_list, trasformed_list):\n",
    "    # 1. check that # of BB is the same\n",
    "    # 2. check that, in order, class num is the same\n",
    "    \n",
    "    assert len(original_bb_list) == len(trasformed_list), \"The two list of BB have not the same lenght\"\n",
    "    \n",
    "    for o_bb, t_bb in zip(original_bb_list, trasformed_list):\n",
    "        assert len(o_bb) == len(t_bb), \"single BB are not of the same length\"\n",
    "        \n",
    "        assert o_bb[4] == t_bb[4], \"Class num. has changed\"\n",
    "    \n",
    "    # check the last one, to be used only\n",
    "    # for my use case\n",
    "    assert trasformed_list[-1][4] == 10\n",
    "    \n",
    "    return"
   ]
  },
  {
   "cell_type": "code",
   "execution_count": 6,
   "id": "8ea00aad-8e13-4ba0-b5a1-2871114c7283",
   "metadata": {},
   "outputs": [],
   "source": [
    "DATASET_BASE_DIR = \"/Users/lsaetta/Progetti/yolo_augmentation/yolo_dataset/train\"\n",
    "# under this dir I have images and labels\n",
    "\n",
    "IMAGE_DEST_DIR = \"/Users/lsaetta/Progetti/yolo_augmentation/yolo_dataset/augmented_train/images\"\n",
    "LABELS_DEST_DIR = \"/Users/lsaetta/Progetti/yolo_augmentation/yolo_dataset/augmented_train/labels\"\n",
    "\n",
    "images_list = sorted(glob.glob(path.join(DATASET_BASE_DIR, \"images/*.jpg\")))\n",
    "labels_list = sorted(glob.glob(path.join(DATASET_BASE_DIR, \"labels/*.txt\")))"
   ]
  },
  {
   "cell_type": "code",
   "execution_count": 7,
   "id": "0fae6551-9574-4976-8378-0bcc44c83f00",
   "metadata": {},
   "outputs": [
    {
     "name": "stdout",
     "output_type": "stream",
     "text": [
      "Processing 00222_clear_jpg.rf.83b62755045b4f2824f818dfbc82c203.jpg, 00222_clear_jpg.rf.83b62755045b4f2824f818dfbc82c203.txt\n",
      "Processing 00341_clear_jpg.rf.76dba9fbbeacab4f50d10fe345d19cb1.jpg, 00341_clear_jpg.rf.76dba9fbbeacab4f50d10fe345d19cb1.txt\n",
      "Processing 00341_clear_rotated_jpg.rf.fbd4206707142423476347f004e7926f.jpg, 00341_clear_rotated_jpg.rf.fbd4206707142423476347f004e7926f.txt\n",
      "Processing 00597_clear_jpg.rf.9d0d995e279a95e49b2585762aedae12.jpg, 00597_clear_jpg.rf.9d0d995e279a95e49b2585762aedae12.txt\n",
      "Processing 01643_clear_jpg.rf.4d24f9bfc7096bf9c90e71df0395e1c5.jpg, 01643_clear_jpg.rf.4d24f9bfc7096bf9c90e71df0395e1c5.txt\n",
      "Processing 02688_clear_jpg.rf.3835244c02d5f89565e9f1dc7c4d93bf.jpg, 02688_clear_jpg.rf.3835244c02d5f89565e9f1dc7c4d93bf.txt\n"
     ]
    }
   ],
   "source": [
    "# process in loop\n",
    "for img_path_name, labels_path_name in zip(images_list, labels_list):\n",
    "    # remove path\n",
    "    img_only_name = img_path_name.split(\"/\")[-1]\n",
    "    labels_only_name = labels_path_name.split(\"/\")[-1]\n",
    "    \n",
    "    print(f\"Processing {img_only_name}, {labels_only_name}\")"
   ]
  },
  {
   "cell_type": "code",
   "execution_count": null,
   "id": "98374255-03b0-4172-a648-5b9baa2f8e3d",
   "metadata": {},
   "outputs": [],
   "source": []
  }
 ],
 "metadata": {
  "kernelspec": {
   "display_name": "Python 3 (ipykernel)",
   "language": "python",
   "name": "python3"
  },
  "language_info": {
   "codemirror_mode": {
    "name": "ipython",
    "version": 3
   },
   "file_extension": ".py",
   "mimetype": "text/x-python",
   "name": "python",
   "nbconvert_exporter": "python",
   "pygments_lexer": "ipython3",
   "version": "3.9.0"
  }
 },
 "nbformat": 4,
 "nbformat_minor": 5
}
