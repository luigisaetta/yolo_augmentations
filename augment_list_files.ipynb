{
 "cells": [
  {
   "cell_type": "markdown",
   "id": "2c4eca1d-1595-4a74-9e06-b64dca4f84f3",
   "metadata": {},
   "source": [
    "### Take a list of images (jpg) + yolo labels and apply Albumentations augmentations\n",
    "\n",
    "to generate new images correctly labeles (with BB in Yolo v5 format)"
   ]
  },
  {
   "cell_type": "code",
   "execution_count": 1,
   "id": "c707eb82-25d8-4bd5-8739-76800fa4e36a",
   "metadata": {},
   "outputs": [],
   "source": [
    "from os import path\n",
    "import glob\n",
    "import cv2\n",
    "import albumentations as A\n",
    "import matplotlib.pyplot as plt\n",
    "\n",
    "%matplotlib inline"
   ]
  },
  {
   "cell_type": "code",
   "execution_count": 2,
   "id": "3faf5375-3073-4489-887f-2c66d23d4f94",
   "metadata": {},
   "outputs": [],
   "source": [
    "from common_functions import read_bb, write_bb, yolo_to_cv2, do_check"
   ]
  },
  {
   "cell_type": "code",
   "execution_count": 3,
   "id": "9d4609f4-d618-410d-abba-92cd6aef1ab9",
   "metadata": {},
   "outputs": [],
   "source": [
    "# here we have to define a working way taking into account how the old_name structure is\n",
    "# in this test the files are from Roboflow, so there are lots of \".\"\n",
    "# you can find another way\n",
    "def new_name(orig_name):\n",
    "    # taking the first split.. it is one of the possible choices\n",
    "    new_name_without_ext = orig_name.split(\".\")[0]\n",
    "\n",
    "    return new_name_without_ext"
   ]
  },
  {
   "cell_type": "code",
   "execution_count": 4,
   "id": "8ea00aad-8e13-4ba0-b5a1-2871114c7283",
   "metadata": {},
   "outputs": [],
   "source": [
    "DATASET_BASE_DIR = \"/Users/lsaetta/Progetti/yolo_augmentations/yolo_dataset/train\"\n",
    "# under this dir I have images and labels\n",
    "\n",
    "IMAGE_DEST_DIR = (\n",
    "    \"/Users/lsaetta/Progetti/yolo_augmentations/yolo_dataset/augmented_train/images\"\n",
    ")\n",
    "LABELS_DEST_DIR = (\n",
    "    \"/Users/lsaetta/Progetti/yolo_augmentations/yolo_dataset/augmented_train/labels\"\n",
    ")\n",
    "\n",
    "images_list = sorted(glob.glob(path.join(DATASET_BASE_DIR, \"images/*.jpg\")))\n",
    "labels_list = sorted(glob.glob(path.join(DATASET_BASE_DIR, \"labels/*.txt\")))"
   ]
  },
  {
   "cell_type": "code",
   "execution_count": 8,
   "id": "0fae6551-9574-4976-8378-0bcc44c83f00",
   "metadata": {},
   "outputs": [
    {
     "name": "stdout",
     "output_type": "stream",
     "text": [
      "Processing 00222_clear_jpg.rf.83b62755045b4f2824f818dfbc82c203.jpg, 00222_clear_jpg.rf.83b62755045b4f2824f818dfbc82c203.txt\n",
      "Saving 00222_clear_jpg_1.jpg in /Users/lsaetta/Progetti/yolo_augmentations/yolo_dataset/augmented_train/images\n",
      "Saving 00222_clear_jpg_1.txt in /Users/lsaetta/Progetti/yolo_augmentations/yolo_dataset/augmented_train/labels\n",
      "Saving 00222_clear_jpg_2.jpg in /Users/lsaetta/Progetti/yolo_augmentations/yolo_dataset/augmented_train/images\n",
      "Saving 00222_clear_jpg_2.txt in /Users/lsaetta/Progetti/yolo_augmentations/yolo_dataset/augmented_train/labels\n",
      "Saving 00222_clear_jpg_3.jpg in /Users/lsaetta/Progetti/yolo_augmentations/yolo_dataset/augmented_train/images\n",
      "Saving 00222_clear_jpg_3.txt in /Users/lsaetta/Progetti/yolo_augmentations/yolo_dataset/augmented_train/labels\n",
      "Saving 00222_clear_jpg_4.jpg in /Users/lsaetta/Progetti/yolo_augmentations/yolo_dataset/augmented_train/images\n",
      "Saving 00222_clear_jpg_4.txt in /Users/lsaetta/Progetti/yolo_augmentations/yolo_dataset/augmented_train/labels\n",
      "Saving 00222_clear_jpg_5.jpg in /Users/lsaetta/Progetti/yolo_augmentations/yolo_dataset/augmented_train/images\n",
      "Saving 00222_clear_jpg_5.txt in /Users/lsaetta/Progetti/yolo_augmentations/yolo_dataset/augmented_train/labels\n",
      "\n",
      "\n",
      "Processing 00341_clear_jpg.rf.76dba9fbbeacab4f50d10fe345d19cb1.jpg, 00341_clear_jpg.rf.76dba9fbbeacab4f50d10fe345d19cb1.txt\n",
      "Saving 00341_clear_jpg_1.jpg in /Users/lsaetta/Progetti/yolo_augmentations/yolo_dataset/augmented_train/images\n",
      "Saving 00341_clear_jpg_1.txt in /Users/lsaetta/Progetti/yolo_augmentations/yolo_dataset/augmented_train/labels\n",
      "Saving 00341_clear_jpg_2.jpg in /Users/lsaetta/Progetti/yolo_augmentations/yolo_dataset/augmented_train/images\n",
      "Saving 00341_clear_jpg_2.txt in /Users/lsaetta/Progetti/yolo_augmentations/yolo_dataset/augmented_train/labels\n",
      "Saving 00341_clear_jpg_3.jpg in /Users/lsaetta/Progetti/yolo_augmentations/yolo_dataset/augmented_train/images\n",
      "Saving 00341_clear_jpg_3.txt in /Users/lsaetta/Progetti/yolo_augmentations/yolo_dataset/augmented_train/labels\n",
      "Saving 00341_clear_jpg_4.jpg in /Users/lsaetta/Progetti/yolo_augmentations/yolo_dataset/augmented_train/images\n",
      "Saving 00341_clear_jpg_4.txt in /Users/lsaetta/Progetti/yolo_augmentations/yolo_dataset/augmented_train/labels\n",
      "Saving 00341_clear_jpg_5.jpg in /Users/lsaetta/Progetti/yolo_augmentations/yolo_dataset/augmented_train/images\n",
      "Saving 00341_clear_jpg_5.txt in /Users/lsaetta/Progetti/yolo_augmentations/yolo_dataset/augmented_train/labels\n",
      "\n",
      "\n",
      "Processing 00341_clear_rotated_jpg.rf.fbd4206707142423476347f004e7926f.jpg, 00341_clear_rotated_jpg.rf.fbd4206707142423476347f004e7926f.txt\n",
      "Saving 00341_clear_rotated_jpg_1.jpg in /Users/lsaetta/Progetti/yolo_augmentations/yolo_dataset/augmented_train/images\n",
      "Saving 00341_clear_rotated_jpg_1.txt in /Users/lsaetta/Progetti/yolo_augmentations/yolo_dataset/augmented_train/labels\n",
      "Saving 00341_clear_rotated_jpg_2.jpg in /Users/lsaetta/Progetti/yolo_augmentations/yolo_dataset/augmented_train/images\n",
      "Saving 00341_clear_rotated_jpg_2.txt in /Users/lsaetta/Progetti/yolo_augmentations/yolo_dataset/augmented_train/labels\n",
      "Saving 00341_clear_rotated_jpg_3.jpg in /Users/lsaetta/Progetti/yolo_augmentations/yolo_dataset/augmented_train/images\n",
      "Saving 00341_clear_rotated_jpg_3.txt in /Users/lsaetta/Progetti/yolo_augmentations/yolo_dataset/augmented_train/labels\n",
      "Saving 00341_clear_rotated_jpg_4.jpg in /Users/lsaetta/Progetti/yolo_augmentations/yolo_dataset/augmented_train/images\n",
      "Saving 00341_clear_rotated_jpg_4.txt in /Users/lsaetta/Progetti/yolo_augmentations/yolo_dataset/augmented_train/labels\n",
      "Saving 00341_clear_rotated_jpg_5.jpg in /Users/lsaetta/Progetti/yolo_augmentations/yolo_dataset/augmented_train/images\n",
      "Saving 00341_clear_rotated_jpg_5.txt in /Users/lsaetta/Progetti/yolo_augmentations/yolo_dataset/augmented_train/labels\n",
      "\n",
      "\n",
      "Processing 00597_clear_jpg.rf.9d0d995e279a95e49b2585762aedae12.jpg, 00597_clear_jpg.rf.9d0d995e279a95e49b2585762aedae12.txt\n",
      "Saving 00597_clear_jpg_1.jpg in /Users/lsaetta/Progetti/yolo_augmentations/yolo_dataset/augmented_train/images\n",
      "Saving 00597_clear_jpg_1.txt in /Users/lsaetta/Progetti/yolo_augmentations/yolo_dataset/augmented_train/labels\n",
      "Saving 00597_clear_jpg_2.jpg in /Users/lsaetta/Progetti/yolo_augmentations/yolo_dataset/augmented_train/images\n",
      "Saving 00597_clear_jpg_2.txt in /Users/lsaetta/Progetti/yolo_augmentations/yolo_dataset/augmented_train/labels\n",
      "Saving 00597_clear_jpg_3.jpg in /Users/lsaetta/Progetti/yolo_augmentations/yolo_dataset/augmented_train/images\n",
      "Saving 00597_clear_jpg_3.txt in /Users/lsaetta/Progetti/yolo_augmentations/yolo_dataset/augmented_train/labels\n",
      "Saving 00597_clear_jpg_4.jpg in /Users/lsaetta/Progetti/yolo_augmentations/yolo_dataset/augmented_train/images\n",
      "Saving 00597_clear_jpg_4.txt in /Users/lsaetta/Progetti/yolo_augmentations/yolo_dataset/augmented_train/labels\n",
      "Saving 00597_clear_jpg_5.jpg in /Users/lsaetta/Progetti/yolo_augmentations/yolo_dataset/augmented_train/images\n",
      "Saving 00597_clear_jpg_5.txt in /Users/lsaetta/Progetti/yolo_augmentations/yolo_dataset/augmented_train/labels\n",
      "\n",
      "\n",
      "Processing 01643_clear_jpg.rf.4d24f9bfc7096bf9c90e71df0395e1c5.jpg, 01643_clear_jpg.rf.4d24f9bfc7096bf9c90e71df0395e1c5.txt\n",
      "Saving 01643_clear_jpg_1.jpg in /Users/lsaetta/Progetti/yolo_augmentations/yolo_dataset/augmented_train/images\n",
      "Saving 01643_clear_jpg_1.txt in /Users/lsaetta/Progetti/yolo_augmentations/yolo_dataset/augmented_train/labels\n",
      "Saving 01643_clear_jpg_2.jpg in /Users/lsaetta/Progetti/yolo_augmentations/yolo_dataset/augmented_train/images\n",
      "Saving 01643_clear_jpg_2.txt in /Users/lsaetta/Progetti/yolo_augmentations/yolo_dataset/augmented_train/labels\n",
      "Saving 01643_clear_jpg_3.jpg in /Users/lsaetta/Progetti/yolo_augmentations/yolo_dataset/augmented_train/images\n",
      "Saving 01643_clear_jpg_3.txt in /Users/lsaetta/Progetti/yolo_augmentations/yolo_dataset/augmented_train/labels\n",
      "Saving 01643_clear_jpg_4.jpg in /Users/lsaetta/Progetti/yolo_augmentations/yolo_dataset/augmented_train/images\n",
      "Saving 01643_clear_jpg_4.txt in /Users/lsaetta/Progetti/yolo_augmentations/yolo_dataset/augmented_train/labels\n",
      "Saving 01643_clear_jpg_5.jpg in /Users/lsaetta/Progetti/yolo_augmentations/yolo_dataset/augmented_train/images\n",
      "Saving 01643_clear_jpg_5.txt in /Users/lsaetta/Progetti/yolo_augmentations/yolo_dataset/augmented_train/labels\n",
      "\n",
      "\n",
      "Processing 02688_clear_jpg.rf.3835244c02d5f89565e9f1dc7c4d93bf.jpg, 02688_clear_jpg.rf.3835244c02d5f89565e9f1dc7c4d93bf.txt\n",
      "Saving 02688_clear_jpg_1.jpg in /Users/lsaetta/Progetti/yolo_augmentations/yolo_dataset/augmented_train/images\n",
      "Saving 02688_clear_jpg_1.txt in /Users/lsaetta/Progetti/yolo_augmentations/yolo_dataset/augmented_train/labels\n",
      "Saving 02688_clear_jpg_2.jpg in /Users/lsaetta/Progetti/yolo_augmentations/yolo_dataset/augmented_train/images\n",
      "Saving 02688_clear_jpg_2.txt in /Users/lsaetta/Progetti/yolo_augmentations/yolo_dataset/augmented_train/labels\n",
      "Saving 02688_clear_jpg_3.jpg in /Users/lsaetta/Progetti/yolo_augmentations/yolo_dataset/augmented_train/images\n",
      "Saving 02688_clear_jpg_3.txt in /Users/lsaetta/Progetti/yolo_augmentations/yolo_dataset/augmented_train/labels\n",
      "Saving 02688_clear_jpg_4.jpg in /Users/lsaetta/Progetti/yolo_augmentations/yolo_dataset/augmented_train/images\n",
      "Saving 02688_clear_jpg_4.txt in /Users/lsaetta/Progetti/yolo_augmentations/yolo_dataset/augmented_train/labels\n",
      "Saving 02688_clear_jpg_5.jpg in /Users/lsaetta/Progetti/yolo_augmentations/yolo_dataset/augmented_train/images\n",
      "Saving 02688_clear_jpg_5.txt in /Users/lsaetta/Progetti/yolo_augmentations/yolo_dataset/augmented_train/labels\n",
      "\n",
      "\n"
     ]
    }
   ],
   "source": [
    "# process in loop\n",
    "HOW_MANY_NEW_IMAGES = 5\n",
    "\n",
    "for img_path_name, labels_path_name in zip(images_list, labels_list):\n",
    "    # remove path\n",
    "    img_only_name = img_path_name.split(\"/\")[-1]\n",
    "    labels_only_name = labels_path_name.split(\"/\")[-1]\n",
    "\n",
    "    print(f\"Processing {img_only_name}, {labels_only_name}\")\n",
    "\n",
    "    for i in range(HOW_MANY_NEW_IMAGES):\n",
    "        # every time Albumentations generate a new img + bb\n",
    "        # build file names\n",
    "        i += 1\n",
    "        new_name_jpg = new_name(img_only_name) + f\"_{i}.jpg\"\n",
    "        new_name_txt = new_name(img_only_name) + f\"_{i}.txt\"\n",
    "\n",
    "        print(f\"Saving {new_name_jpg} in {IMAGE_DEST_DIR}\")\n",
    "        print(f\"Saving {new_name_txt} in {LABELS_DEST_DIR}\")\n",
    "\n",
    "    print()\n",
    "    print()"
   ]
  },
  {
   "cell_type": "code",
   "execution_count": null,
   "id": "98374255-03b0-4172-a648-5b9baa2f8e3d",
   "metadata": {},
   "outputs": [],
   "source": []
  }
 ],
 "metadata": {
  "kernelspec": {
   "display_name": "Python 3 (ipykernel)",
   "language": "python",
   "name": "python3"
  },
  "language_info": {
   "codemirror_mode": {
    "name": "ipython",
    "version": 3
   },
   "file_extension": ".py",
   "mimetype": "text/x-python",
   "name": "python",
   "nbconvert_exporter": "python",
   "pygments_lexer": "ipython3",
   "version": "3.9.0"
  }
 },
 "nbformat": 4,
 "nbformat_minor": 5
}
