{
 "cells": [
  {
   "cell_type": "markdown",
   "id": "4c711442",
   "metadata": {},
   "source": [
    "### Download dataset from Roboflow"
   ]
  },
  {
   "cell_type": "code",
   "execution_count": 1,
   "id": "6654a8fb",
   "metadata": {},
   "outputs": [],
   "source": [
    "from roboflow import Roboflow"
   ]
  },
  {
   "cell_type": "code",
   "execution_count": 2,
   "id": "904d3516",
   "metadata": {},
   "outputs": [
    {
     "name": "stdout",
     "output_type": "stream",
     "text": [
      "loading Roboflow workspace...\n",
      "loading Roboflow project...\n",
      "Downloading Dataset Version Zip in WaterMeterAddictions-2 to yolov5pytorch: 100% [240379 / 240379] bytes\n"
     ]
    },
    {
     "name": "stderr",
     "output_type": "stream",
     "text": [
      "Extracting Dataset Version Zip to WaterMeterAddictions-2 in yolov5pytorch:: 100%|███████████████████████████████████| 18/18 [00:00<00:00, 2514.65it/s]\n"
     ]
    }
   ],
   "source": [
    "rf = Roboflow(api_key=\"AM02J5vJorYpwm2zRS9t\")\n",
    "project = rf.workspace(\"luigi-saetta\").project(\"watermeteraddictions\")\n",
    "dataset = project.version(2).download(\"yolov5\")"
   ]
  },
  {
   "cell_type": "code",
   "execution_count": null,
   "id": "bee969a2",
   "metadata": {},
   "outputs": [],
   "source": []
  }
 ],
 "metadata": {
  "kernelspec": {
   "display_name": "Python 3 (ipykernel)",
   "language": "python",
   "name": "python3"
  },
  "language_info": {
   "codemirror_mode": {
    "name": "ipython",
    "version": 3
   },
   "file_extension": ".py",
   "mimetype": "text/x-python",
   "name": "python",
   "nbconvert_exporter": "python",
   "pygments_lexer": "ipython3",
   "version": "3.9.0"
  }
 },
 "nbformat": 4,
 "nbformat_minor": 5
}
